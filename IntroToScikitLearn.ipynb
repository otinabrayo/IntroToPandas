{
 "cells": [
  {
   "cell_type": "markdown",
   "id": "ba4d93ed-e78f-4ca4-b878-1a12a11db536",
   "metadata": {},
   "source": [
    "# Introduction to sklearn \n",
    "\n",
    "Useful functions :\n",
    "\n",
    "0. An end to end Scikit-learn workflow\n",
    "1. Getting the data ready\n",
    "2. Choose the right estimator/algo for our problem\n",
    "3. Fit the model/algo and use it to make predictions\n",
    "4. Evaluating the model\n",
    "5. Improve the model\n",
    "6. Save and load a trained model\n",
    "7. Puttting it all together"
   ]
  },
  {
   "cell_type": "markdown",
   "id": "c21c128a-1ba5-48e5-9d1c-13befa71131e",
   "metadata": {},
   "source": [
    "## 0. An end to end Scikit-learn workflow"
   ]
  },
  {
   "cell_type": "code",
   "execution_count": null,
   "id": "d6f97344-b164-489b-931c-26a7f7df800d",
   "metadata": {},
   "outputs": [],
   "source": [
    "import numpy as np"
   ]
  },
  {
   "cell_type": "code",
   "execution_count": null,
   "id": "58b62606-ac25-4940-9602-8b91c4bb9c58",
   "metadata": {},
   "outputs": [],
   "source": [
    "#Get the data ready\n",
    "import pandas as pd\n",
    "import matplotlib.pyplot as plt\n",
    "%matplotlib inline\n",
    "heart = pd.read_csv(\"data/heart-disease.csv\")\n",
    "heart"
   ]
  },
  {
   "cell_type": "code",
   "execution_count": null,
   "id": "00892860-3a95-49c0-9bcc-d040a8529f94",
   "metadata": {},
   "outputs": [],
   "source": [
    "import warnings \n",
    "warnings.filterwarnings(\"ignore\")"
   ]
  },
  {
   "cell_type": "code",
   "execution_count": null,
   "id": "d3fb2e11-d6e1-4ed7-ad46-7177ad6a7e70",
   "metadata": {},
   "outputs": [],
   "source": [
    "# Create X (features matrix)\n",
    "X = heart.drop(\"target\", axis=1)\n",
    "\n",
    "#Create Y (labels)\n",
    "y = heart[\"target\"]"
   ]
  },
  {
   "cell_type": "code",
   "execution_count": null,
   "id": "a6a21f41-8cf0-4b95-b9b4-f10abb3ade3f",
   "metadata": {},
   "outputs": [],
   "source": [
    "# 2. Choose the right model and hyperparamters\n",
    "from sklearn.ensemble import RandomForestClassifier\n",
    "clf = RandomForestClassifier()\n",
    "\n",
    "# we keep the default hyperparameters\n",
    "clf.get_params()"
   ]
  },
  {
   "cell_type": "code",
   "execution_count": null,
   "id": "be4ae3c3-7b8e-4272-99a4-3e6ce0dff457",
   "metadata": {},
   "outputs": [],
   "source": [
    "# 3. Fit the model to the data \n",
    "from sklearn.model_selection import train_test_split\n",
    "\n",
    "X_train, X_test, y_train, y_test = train_test_split(X, y, test_size=0.2)"
   ]
  },
  {
   "cell_type": "code",
   "execution_count": null,
   "id": "8908f30c-86ca-4a6b-b05d-c6dab6a09545",
   "metadata": {},
   "outputs": [],
   "source": [
    "clf.fit(X_train, y_train);"
   ]
  },
  {
   "cell_type": "code",
   "execution_count": null,
   "id": "f478f0a5-589a-4ab7-b516-e696fce70834",
   "metadata": {},
   "outputs": [],
   "source": [
    "# make a prediction\n",
    "y_label =clf.predict(np.array([0, 2, 3, 4]))"
   ]
  },
  {
   "cell_type": "code",
   "execution_count": null,
   "id": "1f616c71-461b-420c-95ab-6e9bd4484438",
   "metadata": {},
   "outputs": [],
   "source": [
    "y_preds = clf.predict(X_test)\n",
    "y_preds"
   ]
  },
  {
   "cell_type": "code",
   "execution_count": null,
   "id": "39d5ca03-d152-4aff-9421-6b1232eb42b6",
   "metadata": {},
   "outputs": [],
   "source": [
    "y_test"
   ]
  },
  {
   "cell_type": "code",
   "execution_count": null,
   "id": "09f6e849-c2e8-4a33-adda-4efe97f79bd0",
   "metadata": {},
   "outputs": [],
   "source": [
    "# 4 .Evaluate the model \n",
    "clf.score(X_train, y_train)"
   ]
  },
  {
   "cell_type": "code",
   "execution_count": null,
   "id": "23544c88-acb2-485f-8282-a23ae8d260ab",
   "metadata": {},
   "outputs": [],
   "source": [
    "clf.score(X_test, y_test)"
   ]
  },
  {
   "cell_type": "code",
   "execution_count": null,
   "id": "350dff21-0860-4437-9d5a-f80169db956c",
   "metadata": {},
   "outputs": [],
   "source": [
    "from sklearn.metrics import classification_report, confusion_matrix, accuracy_score\n",
    "\n",
    "print(classification_report(y_test, y_preds))"
   ]
  },
  {
   "cell_type": "code",
   "execution_count": null,
   "id": "9e733000-c87f-4473-85fa-6d37ff9f5a94",
   "metadata": {},
   "outputs": [],
   "source": [
    "confusion_matrix(y_test, y_preds)"
   ]
  },
  {
   "cell_type": "code",
   "execution_count": null,
   "id": "7b161eb7-4462-42da-a533-03fb970fa7ee",
   "metadata": {},
   "outputs": [],
   "source": [
    "accuracy_score(y_test, y_preds)"
   ]
  },
  {
   "cell_type": "code",
   "execution_count": null,
   "id": "4cac7292-d9a5-464b-8086-7192c2cb3321",
   "metadata": {},
   "outputs": [],
   "source": [
    "# 5 .Improve the model\n",
    "# Try diff ammounts of estimator\n",
    "\n",
    "np.random.seed(42)\n",
    "for i in range (10, 100, 10):\n",
    "    print(f\"Trying model with {i} estimators...\")\n",
    "    clf = RandomForestClassifier(n_estimators=i).fit(X_train, y_train)\n",
    "    print(f\"Model accuracy on test set: {clf.score(X_test, y_test) * 100:.2f}%\")\n",
    "    print(\" \")"
   ]
  },
  {
   "cell_type": "code",
   "execution_count": null,
   "id": "456fb6ba-9bae-4331-8651-44da3b635a3c",
   "metadata": {},
   "outputs": [],
   "source": [
    "# 6. Save the model and load it \n",
    "import pickle\n",
    "\n",
    "pickle.dump(clf, open(\"randomForestModel_1.pk1\", \"wb\"))"
   ]
  },
  {
   "cell_type": "code",
   "execution_count": null,
   "id": "86feb0d4-3706-4d1e-9125-4f0d105d1c62",
   "metadata": {},
   "outputs": [],
   "source": [
    "loadedModel = pickle.load(open(\"randomForestModel_1.pk1\", \"rb\"))\n",
    "loadedModel.score(X_test, y_test)"
   ]
  },
  {
   "cell_type": "markdown",
   "id": "85474664-fdcb-4656-ad9e-dfd111a805d1",
   "metadata": {},
   "source": [
    "## 1. Getting data ready\n",
    "\n",
    "The main things to do:\n",
    " 1. Split the data into features and labels (usually 'X' & 'y')\n",
    " 2. Filling/Imputing missing values\n",
    " 3. Convert non numerical values to numeric(encoding)"
   ]
  },
  {
   "cell_type": "code",
   "execution_count": null,
   "id": "9b18029a-a270-4490-bab8-7324896516db",
   "metadata": {},
   "outputs": [],
   "source": [
    "heart.head(3)"
   ]
  },
  {
   "cell_type": "code",
   "execution_count": null,
   "id": "8ae3e1c0-afa8-4499-b39e-b300ac631a3e",
   "metadata": {},
   "outputs": [],
   "source": [
    "X = heart.drop(\"target\", axis=1)\n",
    "X.head(3)\n"
   ]
  },
  {
   "cell_type": "code",
   "execution_count": null,
   "id": "d9d7b612-6631-4731-9251-3c7d1cb6d914",
   "metadata": {},
   "outputs": [],
   "source": [
    "y = heart[\"target\"]\n",
    "y.head(3)"
   ]
  },
  {
   "cell_type": "code",
   "execution_count": null,
   "id": "c4055d40-1ada-48c1-ae3d-3e46d8919cb7",
   "metadata": {},
   "outputs": [],
   "source": [
    "# Split the data to training and test sets\n",
    "from sklearn.model_selection import train_test_split\n",
    "X_train, X_test, y_train, y_test = train_test_split(X, y, test_size=0.2)"
   ]
  },
  {
   "cell_type": "code",
   "execution_count": null,
   "id": "14b5bee8-f37c-435a-9807-5ef6c4c625ed",
   "metadata": {},
   "outputs": [],
   "source": [
    "X_train.shape, X_test.shape, y_train.shape, y_test.shape"
   ]
  },
  {
   "cell_type": "markdown",
   "id": "a0836f00-57f2-4953-9ab3-46249aaf9b6c",
   "metadata": {},
   "source": [
    "## Make it Numerical"
   ]
  },
  {
   "cell_type": "code",
   "execution_count": null,
   "id": "a9a9d07d-a1e7-4034-8bda-995deb1466d3",
   "metadata": {},
   "outputs": [],
   "source": [
    "carSales = pd.read_csv(\"data/car-sales-extended.csv\")\n",
    "carSales.head(3)"
   ]
  },
  {
   "cell_type": "code",
   "execution_count": null,
   "id": "98cac963-acee-463f-8a20-57816554a527",
   "metadata": {},
   "outputs": [],
   "source": [
    "carSales.dtypes"
   ]
  },
  {
   "cell_type": "code",
   "execution_count": null,
   "id": "5644c0f5-1d7d-452a-871f-cc7238bbb61c",
   "metadata": {},
   "outputs": [],
   "source": [
    "#split the data \n",
    "X = carSales.drop(\"Price\", axis=1 )\n",
    "y = carSales[\"Price\"]\n",
    "\n",
    "# Split to training and test\n",
    "X_train, X_test, y_train, y_test = train_test_split(X, y, test_size=0.2)"
   ]
  },
  {
   "cell_type": "code",
   "execution_count": null,
   "id": "4e3ce5f1-90ba-480f-a0c5-05dedcf970b7",
   "metadata": {},
   "outputs": [],
   "source": [
    "from sklearn.ensemble import RandomForestRegressor\n",
    "\n",
    "model =RandomForestRegressor()\n",
    "model.fit(X_train, y_train)\n",
    "model.score(X_test, y_test)"
   ]
  },
  {
   "cell_type": "code",
   "execution_count": null,
   "id": "34a82460-cfdf-48b9-b917-bc2999526c93",
   "metadata": {},
   "outputs": [],
   "source": [
    "# turn the categories into  numbers\n",
    "from sklearn.preprocessing import OneHotEncoder\n",
    "from sklearn.compose import ColumnTransformer\n",
    "\n",
    "categoricalFeatures = [\"Make\", \"Colour\", \"Doors\"]\n",
    "OneHot = OneHotEncoder()\n",
    "tranformer = ColumnTransformer([(\"OneHot\", \n",
    "                                OneHot, \n",
    "                                categoricalFeatures)],\n",
    "                                remainder=\"passthrough\")\n",
    "tranformedX = tranformer.fit_transform(X)\n",
    "tranformedX"
   ]
  },
  {
   "cell_type": "code",
   "execution_count": null,
   "id": "4385b574-691a-42c7-ad5d-dec48e08ee41",
   "metadata": {},
   "outputs": [],
   "source": [
    "pd.DataFrame(tranformedX)"
   ]
  },
  {
   "cell_type": "code",
   "execution_count": null,
   "id": "207ff0ad-628e-40ee-bb2b-ff98a83a47d7",
   "metadata": {},
   "outputs": [],
   "source": [
    "X.head(5)"
   ]
  },
  {
   "cell_type": "code",
   "execution_count": null,
   "id": "0d499bca-739d-4361-9f97-0969fbecb98b",
   "metadata": {},
   "outputs": [],
   "source": [
    "dummy = pd.get_dummies(carSales[[\"Make\", \"Colour\", \"Doors\"]])\n",
    "dummy"
   ]
  },
  {
   "cell_type": "code",
   "execution_count": null,
   "id": "3fbcb618-a264-4578-a1c5-a2da5b0e2415",
   "metadata": {},
   "outputs": [],
   "source": [
    "# lets refil the model\n",
    "np.random.seed(42)\n",
    "X_train, X_test, y_train, y_test = train_test_split(tranformedX, y, test_size=0.2)\n",
    "model.fit(X_train, y_train);"
   ]
  },
  {
   "cell_type": "code",
   "execution_count": null,
   "id": "aa9dc110-67e8-4c1a-9e1c-e4a8330d66fb",
   "metadata": {},
   "outputs": [],
   "source": [
    "model.score(X_test, y_test)"
   ]
  },
  {
   "cell_type": "markdown",
   "id": "c76b0f54-b387-449d-b070-e25766ce7b70",
   "metadata": {},
   "source": [
    "### Missing Values\n",
    "\n",
    "1. Fill them with some values\n",
    "2. Remove the sample with missing data together"
   ]
  },
  {
   "cell_type": "code",
   "execution_count": null,
   "id": "fc3f0cbf-2125-40aa-9006-ae46d5dc557e",
   "metadata": {},
   "outputs": [],
   "source": [
    "carMiss = pd.read_csv(\"data/car-sales-extended-missing-data.csv\")\n",
    "carMiss.isna().sum()"
   ]
  },
  {
   "cell_type": "code",
   "execution_count": null,
   "id": "f636d2e1-d7d3-44ea-a278-5e36ff1b35fd",
   "metadata": {},
   "outputs": [],
   "source": [
    "#create x and y\n",
    "X = carMiss.drop(\"Price\", axis=1)\n",
    "y = carMiss[\"Price\"]"
   ]
  },
  {
   "cell_type": "code",
   "execution_count": null,
   "id": "8f66817d-57c0-4e43-b764-b5ca10a1f434",
   "metadata": {},
   "outputs": [],
   "source": [
    "# Lets convert our data to numbers\n",
    "# turn the categories into  numbers\n",
    "from sklearn.preprocessing import OneHotEncoder\n",
    "from sklearn.compose import ColumnTransformer\n",
    "\n",
    "categoricalFeatures = [\"Make\", \"Colour\", \"Doors\"]\n",
    "OneHot = OneHotEncoder()\n",
    "tranformer = ColumnTransformer([(\"OneHot\", \n",
    "                                OneHot, \n",
    "                                categoricalFeatures)],\n",
    "                                remainder=\"passthrough\")\n",
    "tranformedX = tranformer.fit_transform(X)\n",
    "tranformedX"
   ]
  },
  {
   "cell_type": "code",
   "execution_count": null,
   "id": "35e8e946-46d8-4d5d-ad56-a0a1f177a792",
   "metadata": {},
   "outputs": [],
   "source": [
    "carMiss"
   ]
  },
  {
   "cell_type": "markdown",
   "id": "7de7d570-6e09-4b86-9be6-8bbf85dd97e3",
   "metadata": {},
   "source": [
    "#### Fill missing data with pandas"
   ]
  },
  {
   "cell_type": "code",
   "execution_count": null,
   "id": "caa90859-7b06-4363-8eca-fd932f3436b1",
   "metadata": {},
   "outputs": [],
   "source": [
    "carMiss[\"Doors\"].value_counts()"
   ]
  },
  {
   "cell_type": "code",
   "execution_count": null,
   "id": "8a9ea99f-c2c8-4695-bd4c-b3e76976df57",
   "metadata": {},
   "outputs": [],
   "source": [
    "# Fil the make column\n",
    "carMiss[\"Make\"].fillna(\"missing\", inplace=True)\n",
    "carMiss[\"Colour\"].fillna(\"missing\", inplace=True)\n",
    "\n",
    "carMiss[\"Odometer (KM)\"].fillna(carMiss[\"Odometer (KM)\"].mean(), inplace=True)\n",
    "\n",
    "carMiss[\"Doors\"].fillna(4, inplace=True)"
   ]
  },
  {
   "cell_type": "code",
   "execution_count": null,
   "id": "51323614-9fb6-4e75-a368-5cbaacb65a9c",
   "metadata": {},
   "outputs": [],
   "source": [
    "carMiss.isna().sum()"
   ]
  },
  {
   "cell_type": "code",
   "execution_count": null,
   "id": "4575247e-385b-4b65-94cf-e09546ed761c",
   "metadata": {},
   "outputs": [],
   "source": [
    "#Remove rows with missing price values\n",
    "carMiss.dropna(inplace=True)\n",
    "carMiss.isna().sum()"
   ]
  },
  {
   "cell_type": "code",
   "execution_count": null,
   "id": "f88c4fd8-d3cc-4232-a589-41669638bd1e",
   "metadata": {},
   "outputs": [],
   "source": [
    "X = carMiss.drop(\"Price\", axis=1)\n",
    "y = carMiss[\"Price\"]"
   ]
  },
  {
   "cell_type": "code",
   "execution_count": null,
   "id": "316fecc2-91c4-4e6e-8fc1-c8954ff4f21d",
   "metadata": {},
   "outputs": [],
   "source": [
    "# turn the categories into  numbers\n",
    "from sklearn.preprocessing import OneHotEncoder\n",
    "from sklearn.compose import ColumnTransformer\n",
    "\n",
    "categoricalFeatures = [\"Make\", \"Colour\", \"Doors\"]\n",
    "OneHot = OneHotEncoder()\n",
    "tranformer = ColumnTransformer([(\"OneHot\", \n",
    "                                OneHot, \n",
    "                                categoricalFeatures)],\n",
    "                                remainder=\"passthrough\")\n",
    "tranformedX = tranformer.fit_transform(carMiss)\n",
    "tranformedX"
   ]
  },
  {
   "cell_type": "markdown",
   "id": "50003ec4-a67e-44a2-b169-689b20128b8d",
   "metadata": {},
   "source": [
    "### Option 2: Fill missing values with scikitLearn"
   ]
  },
  {
   "cell_type": "code",
   "execution_count": null,
   "id": "87f7f662-5ec2-4ef8-bd90-bd0439199e49",
   "metadata": {},
   "outputs": [],
   "source": [
    "carMiss = pd.read_csv(\"data/car-sales-extended-missing-data.csv\")\n",
    "carMiss.isna().sum()"
   ]
  },
  {
   "cell_type": "code",
   "execution_count": null,
   "id": "3e92bc95-66cb-4452-8bce-7f2473f594a3",
   "metadata": {},
   "outputs": [],
   "source": [
    "#Drop rows with no label\n",
    "carMiss.dropna(subset=[\"Price\"], inplace=True)\n",
    "carMiss.isna().sum()"
   ]
  },
  {
   "cell_type": "code",
   "execution_count": null,
   "id": "9e4be5f1-5be1-4204-8ec0-8860cc6b851e",
   "metadata": {},
   "outputs": [],
   "source": [
    "X = carMiss.drop(\"Price\", axis=1)\n",
    "y = carMiss[\"Price\"]"
   ]
  },
  {
   "cell_type": "code",
   "execution_count": null,
   "id": "b9000f55-1ac7-4b13-851d-4a31c45aec5b",
   "metadata": {},
   "outputs": [],
   "source": [
    "# Fill missing values with Scikitlearn\n",
    "from sklearn.impute import SimpleImputer\n",
    "from sklearn.compose import ColumnTransformer\n",
    "\n",
    "# Fill missing values with missng and numerical value with mean\n",
    "catImputer = SimpleImputer(strategy=\"constant\", fill_value=\"missing\")\n",
    "doorImputer = SimpleImputer(strategy=\"constant\", fill_value=4)\n",
    "numImputer = SimpleImputer(strategy=\"mean\")\n",
    "\n",
    "#Define columns\n",
    "catFeature = [\"Make\", \"Colour\"]\n",
    "doorFeature = [\"Doors\"]\n",
    "numFeature = [\"Odometer (KM)\"]\n",
    "\n",
    "# Create and Imputer(sth that fills the missing dta)\n",
    "imputer = ColumnTransformer([(\"catImputer\", catImputer, catFeature),\n",
    "                             (\"doorImputer\", doorImputer, doorFeature),\n",
    "                             (\"numImputer\", numImputer, numFeature)])\n",
    "\n",
    "# Transform the data\n",
    "filledX = imputer.fit_transform(X)\n",
    "filledX"
   ]
  },
  {
   "cell_type": "code",
   "execution_count": null,
   "id": "5b44dc7f-67bd-4160-b456-a796c49c1e76",
   "metadata": {},
   "outputs": [],
   "source": [
    "carSalesFilled = pd.DataFrame(filledX, \n",
    "                              columns=[\"Make\", \"Colour\", \"Doors\", \"Odometer (KM)\"])\n",
    "carSalesFilled"
   ]
  },
  {
   "cell_type": "code",
   "execution_count": null,
   "id": "9f5e6d59-ac67-4192-aaac-56cebfd448eb",
   "metadata": {},
   "outputs": [],
   "source": [
    "carSalesFilled.isna().sum()"
   ]
  },
  {
   "cell_type": "code",
   "execution_count": null,
   "id": "87895c65-46b7-4648-8f69-e8496ac955d9",
   "metadata": {
    "scrolled": true
   },
   "outputs": [],
   "source": [
    "# turn the categories into  numbers\n",
    "from sklearn.preprocessing import OneHotEncoder\n",
    "from sklearn.compose import ColumnTransformer\n",
    "\n",
    "categoricalFeatures = [\"Make\", \"Colour\", \"Doors\"]\n",
    "OneHot = OneHotEncoder()\n",
    "tranformer = ColumnTransformer([(\"OneHot\", \n",
    "                                OneHot, \n",
    "                                categoricalFeatures)],\n",
    "                                remainder=\"passthrough\")\n",
    "transformedX = tranformer.fit_transform(carSalesFilled)\n",
    "transformedX"
   ]
  },
  {
   "cell_type": "code",
   "execution_count": null,
   "id": "8e00d6fe-4bb3-48c4-a582-eea9ed06360a",
   "metadata": {},
   "outputs": [],
   "source": [
    "# Now we have got our data as numbers and filled(no missing values)\n",
    "# Let's fit model\n",
    "np.random.seed(42)\n",
    "from sklearn.ensemble import RandomForestRegressor\n",
    "from sklearn.model_selection import train_test_split\n",
    "\n",
    "X_train, X_test, y_train, y_test = train_test_split(transformedX, y, test_size=0.2)\n",
    "model = RandomForestRegressor()\n",
    "model.fit(X_train, y_train)\n",
    "model.score(X_test, y_test)"
   ]
  },
  {
   "cell_type": "code",
   "execution_count": null,
   "id": "085c3aac-95da-45e0-ae8f-e8ee94ee9b82",
   "metadata": {},
   "outputs": [],
   "source": [
    "len(carSalesFilled), len(carSales)"
   ]
  },
  {
   "cell_type": "markdown",
   "id": "140c0e40-3a38-4a6c-a557-00a78d9bf754",
   "metadata": {},
   "source": [
    "## Choosing the right Estimator/algorithm for ut ptoblem\n",
    "Some things to note:\n",
    "* Sklearn refers to machine learning models, algorithms as estimators\n",
    "* Classification problem predicting a category (heart disease or not)\n",
    "   * Sometimes you will see clf (short for classifier) used as a classification estimator\n",
    "* Regression problem - predicting a number (selling price of a car)"
   ]
  },
  {
   "cell_type": "markdown",
   "id": "8c613a1a-3d67-495c-addb-e284b5843612",
   "metadata": {},
   "source": [
    "### Picking a machine learning model for regression problem\n",
    "lets use the Carlifornia Housing data sets"
   ]
  },
  {
   "cell_type": "code",
   "execution_count": null,
   "id": "9bf37684-f181-4acd-8b9a-02a41a0400ef",
   "metadata": {},
   "outputs": [],
   "source": [
    "# Getting the California Housing datasets\n",
    "from sklearn.datasets import fetch_california_housing\n",
    "housing = fetch_california_housing()\n",
    "housing"
   ]
  },
  {
   "cell_type": "code",
   "execution_count": null,
   "id": "9a887ec4-fa69-4dea-951e-74fbd5c7f3ab",
   "metadata": {},
   "outputs": [],
   "source": [
    "housingDf = pd.DataFrame(housing[\"data\"], columns=housing[\"feature_names\"])\n",
    "housingDf"
   ]
  },
  {
   "cell_type": "code",
   "execution_count": null,
   "id": "5838e3cb-35d2-44f5-a5dd-8d5cd4b4a843",
   "metadata": {},
   "outputs": [],
   "source": [
    "housingDf[\"MedHouseVal\"] = housing[\"target\"]\n",
    "housingDf"
   ]
  },
  {
   "cell_type": "code",
   "execution_count": null,
   "id": "71d98a4c-e4f6-463c-acf7-589514012de9",
   "metadata": {},
   "outputs": [],
   "source": [
    "housingDf[\"target\"] = housing[\"target\"]\n",
    "housingDf"
   ]
  },
  {
   "cell_type": "code",
   "execution_count": null,
   "id": "e3005e9a-3d1e-47d3-b7b5-87e420e93862",
   "metadata": {},
   "outputs": [],
   "source": [
    "housingDf = housingDf.drop(\"MedHouseVal\", axis=1)"
   ]
  },
  {
   "cell_type": "code",
   "execution_count": null,
   "id": "79fe5250-4d73-44fe-82bf-2de09049e3c5",
   "metadata": {},
   "outputs": [],
   "source": [
    "housingDf"
   ]
  },
  {
   "cell_type": "code",
   "execution_count": null,
   "id": "91b79741-f576-4c3d-bcd7-1f92d4b22866",
   "metadata": {},
   "outputs": [],
   "source": [
    "# Import algorithm \n",
    "from sklearn.linear_model import Ridge\n",
    "\n",
    "# set up random seed\n",
    "np.random.seed(42)\n",
    "\n",
    "# create the data\n",
    "X = housingDf.drop(\"target\", axis=1)\n",
    "y = housingDf[\"target\"]\n",
    "\n",
    "#split into train and test sets\n",
    "X_train, X_test, y_train, y_test = train_test_split(X, y, test_size=0.2)\n",
    "\n",
    "#Instantiate and fit the model (on the training set)\n",
    "model = Ridge()\n",
    "model.fit(X_train, y_train)\n",
    "\n",
    "# Check the score of the model (on the test set)\n",
    "model.score(X_test, y_test)\n",
    "\n",
    "# Lasso = 0.2841671821008396\n",
    "# ElasticNet = 0.41655189098028245\n",
    "# SVR(kernel=\"linear\") = -0.01648536010717372\n",
    "# EnsembleRegressors = 0.9345833333333333\n",
    "    # RandomForest = 0.8065734772187598\n",
    "# SVR(kernel=\"rbf\") = "
   ]
  },
  {
   "cell_type": "code",
   "execution_count": null,
   "id": "7ee4238b-7027-41ca-a0ab-21a6533ed82c",
   "metadata": {},
   "outputs": [],
   "source": [
    "# Using SVM \n",
    "from sklearn import svm\n",
    "\n",
    "# set up random seed\n",
    "np.random.seed(42)\n",
    "\n",
    "# create the data\n",
    "X = housingDf.drop(\"target\", axis=1)\n",
    "y = housingDf[\"target\"]\n",
    "\n",
    "#split into train and test sets\n",
    "X_train, X_test, y_train, y_test = train_test_split(X, y, test_size=0.2)\n",
    "\n",
    "#Instantiate and fit the model (on the training set)\n",
    "model = svm.SVR(kernel=\"rbf\")\n",
    "model.fit(X_train, y_train)\n",
    "\n",
    "# Check the score of the model (on the test set)\n",
    "model.score(X_test, y_test)"
   ]
  },
  {
   "cell_type": "code",
   "execution_count": null,
   "id": "aa435490-65e3-4e0f-acff-cb0b13761946",
   "metadata": {},
   "outputs": [],
   "source": [
    "# Using Ensemble Model (Combination of smaller models to try and make better prediction than just a single model )\n",
    "\n",
    "from sklearn.ensemble import HistGradientBoostingClassifier\n",
    "from sklearn.datasets import make_hastie_10_2\n",
    "\n",
    "# set up random seed\n",
    "np.random.seed(42)\n",
    "\n",
    "# create the data\n",
    "# X = housingDf.drop(\"target\", axis=1)\n",
    "# y = housingDf[\"target\"]\n",
    "\n",
    "X, y = make_hastie_10_2(random_state=0)\n",
    "\n",
    "#split into train and test sets\n",
    "X_train, X_test, y_train, y_test = train_test_split(X, y, test_size=0.2)\n",
    "\n",
    "#Instantiate and fit the model (on the training set)\n",
    "# model = svm.SVR()\n",
    "model = HistGradientBoostingClassifier().fit(X_train, y_train)\n",
    "\n",
    "# Check the score of the model (on the test set)\n",
    "model.score(X_test, y_test)\n"
   ]
  },
  {
   "cell_type": "code",
   "execution_count": null,
   "id": "ae24c0b1-fde5-41fa-bbbe-816ce9009196",
   "metadata": {},
   "outputs": [],
   "source": [
    "from sklearn.ensemble import RandomForestRegressor\n",
    "\n",
    "np.random.seed(42)\n",
    "\n",
    "X = housingDf.drop(\"target\", axis=1)\n",
    "y = housingDf[\"target\"]\n",
    "\n",
    "X_train, X_test, y_train, y_test = train_test_split(X, y, test_size=0.2)\n",
    "\n",
    "model = RandomForestRegressor()\n",
    "\n",
    "model.fit(X_train, y_train)\n",
    "\n",
    "model.score(X_test, y_test)"
   ]
  },
  {
   "cell_type": "markdown",
   "id": "bded136a-fae2-458a-b8ba-e9211968f12f",
   "metadata": {},
   "source": [
    "## Picking Machine Learning Model for Classification"
   ]
  },
  {
   "cell_type": "code",
   "execution_count": null,
   "id": "645789f7-f50b-4cf0-aa8e-7943ba82bdc3",
   "metadata": {},
   "outputs": [],
   "source": []
  }
 ],
 "metadata": {
  "kernelspec": {
   "display_name": "Python 3 (ipykernel)",
   "language": "python",
   "name": "python3"
  },
  "language_info": {
   "codemirror_mode": {
    "name": "ipython",
    "version": 3
   },
   "file_extension": ".py",
   "mimetype": "text/x-python",
   "name": "python",
   "nbconvert_exporter": "python",
   "pygments_lexer": "ipython3",
   "version": "3.12.7"
  },
  "widgets": {
   "application/vnd.jupyter.widget-state+json": {
    "state": {},
    "version_major": 2,
    "version_minor": 0
   }
  }
 },
 "nbformat": 4,
 "nbformat_minor": 5
}
